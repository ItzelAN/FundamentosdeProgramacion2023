{
  "cells": [
    {
      "cell_type": "markdown",
      "metadata": {
        "id": "WICNXj1_fMEm"
      },
      "source": [
        "# Welcome to python EDA!\n"
      ]
    },
    {
      "cell_type": "markdown",
      "metadata": {
        "id": "KOcZqCkjfMEn"
      },
      "source": [
        "## 1) Cleaning data\n",
        "#### 1. Filtering out noise\n",
        "#### 2. Making data available for analysis\n",
        "## 2) What is statistics?\n",
        "####   Simple statistics\n",
        "## 3)  Practical examples of data mining\n",
        "## 4)  Dataset examples\n"
      ]
    },
    {
      "cell_type": "markdown",
      "metadata": {
        "id": "z_LJW6eEfMEo"
      },
      "source": [
        "## Section 1.1 Data Cleaning"
      ]
    },
    {
      "cell_type": "code",
      "execution_count": null,
      "metadata": {
        "collapsed": true,
        "id": "-6FoX9OLfMEo"
      },
      "outputs": [],
      "source": [
        "import pandas as pd\n",
        "import seaborn as sns\n",
        "import numpy as np\n",
        "import matplotlib.pyplot as plt\n",
        "\n",
        "%matplotlib  inline"
      ]
    },
    {
      "cell_type": "code",
      "execution_count": null,
      "metadata": {
        "collapsed": true,
        "id": "-rYLM_62fMEp"
      },
      "outputs": [],
      "source": [
        "df = pd.read_csv('single_family_home_values.csv') # zillow"
      ]
    },
    {
      "cell_type": "code",
      "execution_count": null,
      "metadata": {
        "id": "4oQFszfAfMEp"
      },
      "outputs": [],
      "source": [
        "df.head(2)"
      ]
    },
    {
      "cell_type": "code",
      "execution_count": null,
      "metadata": {
        "id": "k9EdPYNtfMEp"
      },
      "outputs": [],
      "source": [
        "df.shape"
      ]
    },
    {
      "cell_type": "code",
      "execution_count": null,
      "metadata": {
        "id": "1qQIoZ7ZfMEq"
      },
      "outputs": [],
      "source": [
        "df.info()"
      ]
    },
    {
      "cell_type": "code",
      "execution_count": null,
      "metadata": {
        "id": "c0-tkdCwfMEq"
      },
      "outputs": [],
      "source": [
        "df.describe()"
      ]
    },
    {
      "cell_type": "code",
      "execution_count": null,
      "metadata": {
        "collapsed": true,
        "id": "MD2gZRF6fMEq"
      },
      "outputs": [],
      "source": [
        "df2= df.fillna(0)"
      ]
    },
    {
      "cell_type": "code",
      "execution_count": null,
      "metadata": {
        "collapsed": true,
        "id": "oXkhGTWPfMEq"
      },
      "outputs": [],
      "source": [
        "#or\n",
        "df = df.fillna(df.mean())"
      ]
    },
    {
      "cell_type": "code",
      "execution_count": null,
      "metadata": {
        "collapsed": true,
        "id": "cL1kmfrgfMEr"
      },
      "outputs": [],
      "source": [
        "df.dropna(inplace=True)"
      ]
    },
    {
      "cell_type": "code",
      "execution_count": null,
      "metadata": {
        "id": "mjF1GPVHfMEr"
      },
      "outputs": [],
      "source": [
        "df.info()"
      ]
    },
    {
      "cell_type": "code",
      "execution_count": null,
      "metadata": {
        "id": "z-XIq-tyfMEr"
      },
      "outputs": [],
      "source": [
        "df[['estimated_value', 'yearBuilt', 'priorSaleAmount']].head(2)"
      ]
    },
    {
      "cell_type": "code",
      "execution_count": null,
      "metadata": {
        "id": "UgoeeJ_kfMEr"
      },
      "outputs": [],
      "source": [
        "sns.boxplot(df.estimated_value)"
      ]
    },
    {
      "cell_type": "code",
      "execution_count": null,
      "metadata": {
        "collapsed": true,
        "id": "u74i5NEtfMEr"
      },
      "outputs": [],
      "source": [
        "df=df[df.estimated_value<=1000000]"
      ]
    },
    {
      "cell_type": "code",
      "execution_count": null,
      "metadata": {
        "id": "_WUnAChlfMEs"
      },
      "outputs": [],
      "source": [
        "sns.boxplot(df.estimated_value)"
      ]
    },
    {
      "cell_type": "code",
      "execution_count": null,
      "metadata": {
        "id": "BRsQRoAOfMEs"
      },
      "outputs": [],
      "source": [
        "df.estimated_value.hist()"
      ]
    },
    {
      "cell_type": "code",
      "execution_count": null,
      "metadata": {
        "id": "lAt6JxCZfMEs",
        "outputId": "6458bffc-010b-48b2-d9ce-ffc755d3b1a8"
      },
      "outputs": [
        {
          "data": {
            "text/plain": [
              "array([80022, 80033, 80123, 80203, 80204, 80205, 80206, 80207, 80209])"
            ]
          },
          "execution_count": 86,
          "metadata": {},
          "output_type": "execute_result"
        }
      ],
      "source": [
        "df.zipcode.unique()"
      ]
    },
    {
      "cell_type": "code",
      "execution_count": null,
      "metadata": {
        "id": "VmgnNgmifMEs"
      },
      "outputs": [],
      "source": [
        "#filter out noise, slice df\n",
        "\n",
        "df[(df.estimated_value<=1000000)  &  (df.yearBuilt>2013) &  (df.zipcode==80209)]"
      ]
    },
    {
      "cell_type": "markdown",
      "metadata": {
        "id": "u6ZtVvH2fMEs"
      },
      "source": [
        "## What is statistics?"
      ]
    },
    {
      "cell_type": "code",
      "execution_count": null,
      "metadata": {
        "id": "NGPNs0O_fMEs"
      },
      "outputs": [],
      "source": [
        "df.describe()"
      ]
    },
    {
      "cell_type": "code",
      "execution_count": null,
      "metadata": {
        "id": "VGN2y64FfMEt"
      },
      "outputs": [],
      "source": [
        "df.info()"
      ]
    },
    {
      "cell_type": "code",
      "execution_count": null,
      "metadata": {
        "id": "AWufyIwyfMEt"
      },
      "outputs": [],
      "source": [
        "df.estimated_value.hist()"
      ]
    },
    {
      "cell_type": "code",
      "execution_count": null,
      "metadata": {
        "id": "uIU7YpHhfMEt"
      },
      "outputs": [],
      "source": [
        "sns.boxplot(df.estimated_value)"
      ]
    },
    {
      "cell_type": "code",
      "execution_count": null,
      "metadata": {
        "collapsed": true,
        "id": "KuNhhZMLfMEt"
      },
      "outputs": [],
      "source": [
        "df= df[df.lastSaleAmount<=1000000]"
      ]
    },
    {
      "cell_type": "code",
      "execution_count": null,
      "metadata": {
        "id": "QgL6inGcfMEt"
      },
      "outputs": [],
      "source": [
        "sns.pairplot(df[['lastSaleAmount', 'estimated_value', 'zipcode']], hue='zipcode')"
      ]
    },
    {
      "cell_type": "code",
      "execution_count": null,
      "metadata": {
        "id": "80_DPKCCfMEt"
      },
      "outputs": [],
      "source": [
        "sns.stripplot(x=df.zipcode, y=df.estimated_value)"
      ]
    },
    {
      "cell_type": "code",
      "execution_count": null,
      "metadata": {
        "id": "WtdwCDB0fMEu"
      },
      "outputs": [],
      "source": [
        "sns.violinplot(x=df.zipcode, y=df.estimated_value)"
      ]
    },
    {
      "cell_type": "code",
      "execution_count": null,
      "metadata": {
        "collapsed": true,
        "id": "0tA30okhfMEu"
      },
      "outputs": [],
      "source": [
        "#df['yearBuild']=df.yearBuilt.astype(str)"
      ]
    },
    {
      "cell_type": "code",
      "execution_count": null,
      "metadata": {
        "collapsed": true,
        "id": "AvE3WffVfMEu"
      },
      "outputs": [],
      "source": [
        "df['priorSaleDate'] = pd.to_datetime(df.priorSaleDate)"
      ]
    },
    {
      "cell_type": "code",
      "execution_count": null,
      "metadata": {
        "collapsed": true,
        "id": "ua-b-ck9fMEu"
      },
      "outputs": [],
      "source": [
        "df['lastSaleDate'] = pd.to_datetime(df.lastSaleDate)"
      ]
    },
    {
      "cell_type": "code",
      "execution_count": null,
      "metadata": {
        "collapsed": true,
        "id": "FVx8gyqtfMEu"
      },
      "outputs": [],
      "source": [
        "df['weekday_lastSaleDate'] = df.lastSaleDate.dt.weekday\n",
        "df['year_lastSaleDate'] = df.lastSaleDate.dt.year"
      ]
    },
    {
      "cell_type": "code",
      "execution_count": null,
      "metadata": {
        "collapsed": true,
        "id": "2dUMO44vfMEu"
      },
      "outputs": [],
      "source": [
        "df['weekday_priorSaleDate'] = df.priorSaleDate.dt.weekday\n",
        "df['year_priorSaleDate'] = df.priorSaleDate.dt.year"
      ]
    },
    {
      "cell_type": "code",
      "execution_count": null,
      "metadata": {
        "collapsed": true,
        "id": "zjUcZz7efMEu"
      },
      "outputs": [],
      "source": [
        "df['year_between_last_sales']=df.year_lastSaleDate-df.year_priorSaleDate"
      ]
    },
    {
      "cell_type": "code",
      "execution_count": null,
      "metadata": {
        "id": "zf5Izr-qfMEv"
      },
      "outputs": [],
      "source": [
        "df.corr().loc[ 'estimated_value' , : ].sort_values(ascending=False)"
      ]
    },
    {
      "cell_type": "markdown",
      "metadata": {
        "id": "o_eG8tt5fMEv"
      },
      "source": [
        "## 3) Practical examples of data mining"
      ]
    },
    {
      "cell_type": "code",
      "execution_count": null,
      "metadata": {
        "collapsed": true,
        "id": "5O7XCh4NfMEv"
      },
      "outputs": [],
      "source": [
        "#Group by\n",
        "df2= df.groupby('zipcode').estimated_value.median().reset_index()"
      ]
    },
    {
      "cell_type": "code",
      "execution_count": null,
      "metadata": {
        "collapsed": true,
        "id": "W1hbS35ofMEv"
      },
      "outputs": [],
      "source": [
        "df2.columns=['zipcode', 'median_value']"
      ]
    },
    {
      "cell_type": "code",
      "execution_count": null,
      "metadata": {
        "id": "Vi-w1IZWfMEv"
      },
      "outputs": [],
      "source": [
        "df2"
      ]
    },
    {
      "cell_type": "code",
      "execution_count": null,
      "metadata": {
        "collapsed": true,
        "id": "tbPhcjrKfMEv"
      },
      "outputs": [],
      "source": [
        "# merge df"
      ]
    },
    {
      "cell_type": "code",
      "execution_count": null,
      "metadata": {
        "collapsed": true,
        "id": "OUN1wRFFfMEv"
      },
      "outputs": [],
      "source": [
        "#pd.merge(df, df2, on='zipcode')"
      ]
    },
    {
      "cell_type": "code",
      "execution_count": null,
      "metadata": {
        "id": "xWBf4HU0fMEw"
      },
      "outputs": [],
      "source": [
        "df.head(2)"
      ]
    },
    {
      "cell_type": "code",
      "execution_count": null,
      "metadata": {
        "collapsed": true,
        "id": "JprZzSchfMEw"
      },
      "outputs": [],
      "source": [
        "df3 = pd.merge(df, df2, on='zipcode', how='left')"
      ]
    },
    {
      "cell_type": "code",
      "execution_count": null,
      "metadata": {
        "id": "zVpZb3mAfMEw"
      },
      "outputs": [],
      "source": [
        "df3.head(2)"
      ]
    },
    {
      "cell_type": "markdown",
      "metadata": {
        "id": "rutjUHy9fMEw"
      },
      "source": [
        "## 4)  Dataset examples"
      ]
    },
    {
      "cell_type": "markdown",
      "metadata": {
        "id": "AruiIgWGfMEw"
      },
      "source": [
        "### Kaggle: https://www.kaggle.com\n",
        "### Reddit:\n",
        "### Sklearn\n",
        "### Google!"
      ]
    },
    {
      "cell_type": "code",
      "execution_count": null,
      "metadata": {
        "id": "DsjiZHR0fMEw"
      },
      "outputs": [],
      "source": [
        "# From http://scikit-learn.org/stable/auto_examples/datasets/plot_iris_dataset.html\n",
        "# Code source: Gaël Varoquaux\n",
        "# Modified for documentation by Jaques Grobler\n",
        "# License: BSD 3 clause\n",
        "\n",
        "import matplotlib.pyplot as plt\n",
        "from mpl_toolkits.mplot3d import Axes3D\n",
        "from sklearn import datasets\n",
        "from sklearn.decomposition import PCA\n",
        "\n",
        "# import some data to play with\n",
        "iris = datasets.load_iris()\n",
        "X = iris.data[:, :2]  # we only take the first two features.\n",
        "y = iris.target\n",
        "\n",
        "x_min, x_max = X[:, 0].min() - .5, X[:, 0].max() + .5\n",
        "y_min, y_max = X[:, 1].min() - .5, X[:, 1].max() + .5\n",
        "\n",
        "plt.figure(2, figsize=(8, 6))\n",
        "plt.clf()\n",
        "\n",
        "# Plot the training points\n",
        "plt.scatter(X[:, 0], X[:, 1], c=y, cmap=plt.cm.Set1,\n",
        "            edgecolor='k')\n",
        "plt.xlabel('Sepal length')\n",
        "plt.ylabel('Sepal width')\n",
        "\n",
        "plt.xlim(x_min, x_max)\n",
        "plt.ylim(y_min, y_max)\n",
        "plt.xticks(())\n",
        "plt.yticks(())\n",
        "\n",
        "# To getter a better understanding of interaction of the dimensions\n",
        "# plot the first three PCA dimensions\n",
        "fig = plt.figure(1, figsize=(8, 6))\n",
        "ax = Axes3D(fig, elev=-150, azim=110)\n",
        "X_reduced = PCA(n_components=3).fit_transform(iris.data)\n",
        "ax.scatter(X_reduced[:, 0], X_reduced[:, 1], X_reduced[:, 2], c=y,\n",
        "           cmap=plt.cm.Set1, edgecolor='k', s=40)\n",
        "ax.set_title(\"First three PCA directions\")\n",
        "ax.set_xlabel(\"1st eigenvector\")\n",
        "ax.w_xaxis.set_ticklabels([])\n",
        "ax.set_ylabel(\"2nd eigenvector\")\n",
        "ax.w_yaxis.set_ticklabels([])\n",
        "ax.set_zlabel(\"3rd eigenvector\")\n",
        "ax.w_zaxis.set_ticklabels([])\n",
        "\n",
        "plt.show()"
      ]
    },
    {
      "cell_type": "code",
      "execution_count": null,
      "metadata": {
        "collapsed": true,
        "id": "G4ClaPA-fMEx"
      },
      "outputs": [],
      "source": []
    },
    {
      "cell_type": "markdown",
      "metadata": {
        "collapsed": true,
        "id": "reFpV5BzfMEx"
      },
      "source": [
        "# Python Installations"
      ]
    },
    {
      "cell_type": "markdown",
      "metadata": {
        "id": "PovbJejmfMEx"
      },
      "source": [
        "## 1) Install Anaconda\n",
        "https://www.anaconda.com/download/"
      ]
    },
    {
      "cell_type": "markdown",
      "metadata": {
        "id": "97lD0pQ6fMEx"
      },
      "source": [
        "## 2) Install Jupyter Notebook\n",
        "https://jupyter.org/install"
      ]
    },
    {
      "cell_type": "markdown",
      "metadata": {
        "id": "oRudOOtofMEx"
      },
      "source": [
        "## 3) To launch Notebook\n",
        "### In your terminal, enter\n",
        "### jupyter notebook"
      ]
    },
    {
      "cell_type": "markdown",
      "metadata": {
        "id": "gzA41wYufMEx"
      },
      "source": [
        "## 4) Install Python Libraries\n",
        "### Conda install pandas\n",
        "### Conda install numpy"
      ]
    }
  ],
  "metadata": {
    "kernelspec": {
      "display_name": "Python 2",
      "language": "python",
      "name": "python2"
    },
    "language_info": {
      "codemirror_mode": {
        "name": "ipython",
        "version": 2
      },
      "file_extension": ".py",
      "mimetype": "text/x-python",
      "name": "python",
      "nbconvert_exporter": "python",
      "pygments_lexer": "ipython2",
      "version": "2.7.13"
    },
    "colab": {
      "provenance": []
    }
  },
  "nbformat": 4,
  "nbformat_minor": 0
}